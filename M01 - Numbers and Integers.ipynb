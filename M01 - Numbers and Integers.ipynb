{
 "cells": [
  {
   "cell_type": "code",
   "execution_count": 50,
   "id": "3268be15-7f41-4555-96b2-92f31ab58908",
   "metadata": {
    "scrolled": true
   },
   "outputs": [
    {
     "data": {
      "text/plain": [
       "3600"
      ]
     },
     "execution_count": 50,
     "metadata": {},
     "output_type": "execute_result"
    }
   ],
   "source": [
    "#How many seconds are in an hour? 3.` & 3.2\n",
    "Seconds = 60\n",
    "Minutes = 60\n",
    "Seconds_Per_Hour = Minutes * Seconds\n",
    "Seconds_Per_Hour"
   ]
  },
  {
   "cell_type": "code",
   "execution_count": 52,
   "id": "5da5c411-7611-43d0-bda1-f6d01784b9ce",
   "metadata": {},
   "outputs": [
    {
     "data": {
      "text/plain": [
       "86400"
      ]
     },
     "execution_count": 52,
     "metadata": {},
     "output_type": "execute_result"
    }
   ],
   "source": [
    "#How many seconds are in an hour? 3.3\n",
    "Seconds = 60\n",
    "Minutes = 60\n",
    "Seconds_Per_Hour = Minutes * Seconds\n",
    "Hours_In_Day = 24\n",
    "Seconds_Per_Hour * Hours_In_Day"
   ]
  },
  {
   "cell_type": "code",
   "execution_count": 54,
   "id": "63e4130e-0107-44e8-a4e1-16fd67876dde",
   "metadata": {},
   "outputs": [
    {
     "data": {
      "text/plain": [
       "86400"
      ]
     },
     "execution_count": 54,
     "metadata": {},
     "output_type": "execute_result"
    }
   ],
   "source": [
    "#How many seconds are in an hour? 3.4\n",
    "Seconds = 60\n",
    "Minutes = 60\n",
    "Seconds_Per_Hour = Minutes * Seconds\n",
    "Hours_In_Day = 24\n",
    "Seconds_Per_Day = Seconds_Per_Hour * Hours_In_Day\n",
    "Seconds_Per_Day"
   ]
  },
  {
   "cell_type": "code",
   "execution_count": 56,
   "id": "9b1c8774-7a5c-4da0-8773-df1bcff35780",
   "metadata": {},
   "outputs": [
    {
     "data": {
      "text/plain": [
       "24.0"
      ]
     },
     "execution_count": 56,
     "metadata": {},
     "output_type": "execute_result"
    }
   ],
   "source": [
    "#How many seconds are in an hour? 3.5\n",
    "Seconds = 60\n",
    "Minutes = 60\n",
    "Seconds_Per_Hour = Minutes * Seconds\n",
    "Hours_In_Day = 24\n",
    "Seconds_Per_Day = Seconds_Per_Hour * Hours_In_Day\n",
    "Seconds_Per_Day / Seconds_Per_Hour"
   ]
  },
  {
   "cell_type": "code",
   "execution_count": 58,
   "id": "26ce5ad4-6b09-4ae4-8180-e6b318f89856",
   "metadata": {},
   "outputs": [
    {
     "data": {
      "text/plain": [
       "24"
      ]
     },
     "execution_count": 58,
     "metadata": {},
     "output_type": "execute_result"
    }
   ],
   "source": [
    "#How many seconds are in an hour? 3.6\n",
    "Seconds = 60\n",
    "Minutes = 60\n",
    "Seconds_Per_Hour = Minutes * Seconds\n",
    "Hours_In_Day = 24\n",
    "Seconds_Per_Day = Seconds_Per_Hour * Hours_In_Day\n",
    "Seconds_Per_Day // Seconds_Per_Hour"
   ]
  },
  {
   "cell_type": "code",
   "execution_count": 69,
   "id": "66d03071-51b2-4dc4-8bda-e0ba649b9915",
   "metadata": {},
   "outputs": [],
   "source": [
    "Print:(\"Yes, Section 3.5 and 3.6 Agree with the exception of the floating integer removed by the //.\")"
   ]
  }
 ],
 "metadata": {
  "kernelspec": {
   "display_name": "Python [conda env:base] *",
   "language": "python",
   "name": "conda-base-py"
  },
  "language_info": {
   "codemirror_mode": {
    "name": "ipython",
    "version": 3
   },
   "file_extension": ".py",
   "mimetype": "text/x-python",
   "name": "python",
   "nbconvert_exporter": "python",
   "pygments_lexer": "ipython3",
   "version": "3.12.7"
  }
 },
 "nbformat": 4,
 "nbformat_minor": 5
}
