{
 "cells": [
  {
   "cell_type": "code",
   "execution_count": 10,
   "id": "8da16213-5fc1-4307-bcdf-7ef7b006640b",
   "metadata": {},
   "outputs": [
    {
     "name": "stdout",
     "output_type": "stream",
     "text": [
      "Too high!\n"
     ]
    }
   ],
   "source": [
    "#Example 4.1\n",
    "secret = 4\n",
    "guess = 6\n",
    "\n",
    "if guess > secret:\n",
    "    print(\"Too high!\")\n",
    "elif guess < secret:\n",
    "    print(\"Too low!\")\n",
    "else:\n",
    "    print(\"Just right!\")"
   ]
  },
  {
   "cell_type": "code",
   "execution_count": 17,
   "id": "ca92fc66-884c-43ec-bba9-f993399c1729",
   "metadata": {},
   "outputs": [
    {
     "name": "stdout",
     "output_type": "stream",
     "text": [
      "It is a Cherry!\n"
     ]
    }
   ],
   "source": [
    "#Example 4.2\n",
    "small = True\n",
    "green = False\n",
    "\n",
    "if small == True:\n",
    "    if green == True:\n",
    "        print(\"It is a pea\")\n",
    "    elif green == False:\n",
    "        print(\"It is a Cherry!\")\n",
    "else:\n",
    "    if green == True:\n",
    "        print(\"It is a watermelon!\")\n",
    "    elif green == False:\n",
    "        print(\"It is a pumpkin!\")"
   ]
  },
  {
   "cell_type": "code",
   "execution_count": 5,
   "id": "f48c8537-5a16-4a5d-b21a-294e394ba0d2",
   "metadata": {},
   "outputs": [
    {
     "name": "stdout",
     "output_type": "stream",
     "text": [
      "3\n",
      "2\n",
      "1\n",
      "0\n"
     ]
    }
   ],
   "source": [
    "#Example 6.1\n",
    "list = [3, 2, 1, 0]\n",
    "\n",
    "for value in list:\n",
    "    print(value)"
   ]
  },
  {
   "cell_type": "code",
   "execution_count": 16,
   "id": "1c39fc5a-4a91-4041-b89e-abc9d4d4e338",
   "metadata": {},
   "outputs": [
    {
     "name": "stdout",
     "output_type": "stream",
     "text": [
      "1\n",
      "2\n",
      "3\n",
      "4\n",
      "5\n",
      "6\n",
      "7\n",
      "Found it!\n"
     ]
    }
   ],
   "source": [
    "#Example 6.2.1\n",
    "guess_me = 7\n",
    "number = 1\n",
    "print(number)\n",
    "while number < guess_me:\n",
    "    number=number+1\n",
    "    print(number)\n",
    "if number == guess_me:\n",
    "    print('Found it!')\n",
    "if number > guess_me:\n",
    "    print('Oops')"
   ]
  },
  {
   "cell_type": "code",
   "execution_count": 18,
   "id": "806f18dd-53c9-4904-b8c1-219d27a3ea92",
   "metadata": {},
   "outputs": [
    {
     "name": "stdout",
     "output_type": "stream",
     "text": [
      "10\n",
      "Oops\n"
     ]
    }
   ],
   "source": [
    "#Example 6.2.2 - showing second condition\n",
    "guess_me = 7\n",
    "number = 10\n",
    "print(number)\n",
    "while number < guess_me:\n",
    "    number=number+1\n",
    "    print(number)\n",
    "if number == guess_me:\n",
    "    print('Found it!')\n",
    "if number > guess_me:\n",
    "    print('Oops')"
   ]
  },
  {
   "cell_type": "code",
   "execution_count": 38,
   "id": "6d127969-ee19-48bd-a63a-881c6e3e01c5",
   "metadata": {},
   "outputs": [
    {
     "name": "stdout",
     "output_type": "stream",
     "text": [
      "Too low\n",
      "Too low\n",
      "Too low\n",
      "Too low\n",
      "Too low\n",
      "found it!\n"
     ]
    }
   ],
   "source": [
    "#Example 6.3\n",
    "guess_me = 5\n",
    "number = range(10)\n",
    "for number in range(10):\n",
    "    if number == guess_me:\n",
    "        print('found it!')\n",
    "        break\n",
    "    if number < guess_me:\n",
    "        print('Too low')\n",
    "    if number > guess_me:\n",
    "        print('oops')\n",
    "        break"
   ]
  }
 ],
 "metadata": {
  "kernelspec": {
   "display_name": "Python 3 (ipykernel)",
   "language": "python",
   "name": "python3"
  },
  "language_info": {
   "codemirror_mode": {
    "name": "ipython",
    "version": 3
   },
   "file_extension": ".py",
   "mimetype": "text/x-python",
   "name": "python",
   "nbconvert_exporter": "python",
   "pygments_lexer": "ipython3",
   "version": "3.12.7"
  }
 },
 "nbformat": 4,
 "nbformat_minor": 5
}
